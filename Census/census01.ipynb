{
 "cells": [
  {
   "cell_type": "code",
   "execution_count": 1,
   "metadata": {},
   "outputs": [],
   "source": [
    "# conda activate 10-19-2019\n",
    "# pip install CensusData\n",
    "# conda install -c anaconda pip\n",
    "# conda install -c anaconda pandas"
   ]
  },
  {
   "cell_type": "code",
   "execution_count": 1,
   "metadata": {},
   "outputs": [],
   "source": [
    "import censusdata\n",
    "import pandas as pd\n",
    "\n",
    "# the last five labels that have the word unemploy in them\n",
    "# censusdata.search(src='acs5', year = 2017, field = 'label', criterion = 'employed' )"
   ]
  },
  {
   "cell_type": "code",
   "execution_count": 2,
   "metadata": {},
   "outputs": [
    {
     "data": {
      "text/html": [
       "<div>\n",
       "<style scoped>\n",
       "    .dataframe tbody tr th:only-of-type {\n",
       "        vertical-align: middle;\n",
       "    }\n",
       "\n",
       "    .dataframe tbody tr th {\n",
       "        vertical-align: top;\n",
       "    }\n",
       "\n",
       "    .dataframe thead th {\n",
       "        text-align: right;\n",
       "    }\n",
       "</style>\n",
       "<table border=\"1\" class=\"dataframe\">\n",
       "  <thead>\n",
       "    <tr style=\"text-align: right;\">\n",
       "      <th></th>\n",
       "      <th>B27011_003E</th>\n",
       "      <th>B27011_004E</th>\n",
       "      <th>B27011_005E</th>\n",
       "      <th>B27011_006E</th>\n",
       "      <th>B27011_007E</th>\n",
       "      <th>B27011_008E</th>\n",
       "      <th>B27011_009E</th>\n",
       "      <th>B27011_010E</th>\n",
       "      <th>B27011_011E</th>\n",
       "      <th>B27011_012E</th>\n",
       "      <th>B27011_013E</th>\n",
       "      <th>B27011_014E</th>\n",
       "      <th>B27011_015E</th>\n",
       "      <th>B27011_016E</th>\n",
       "      <th>B27011_017E</th>\n",
       "    </tr>\n",
       "  </thead>\n",
       "  <tbody>\n",
       "    <tr>\n",
       "      <td>Congressional District 1 (115th Congress), Alabama: Summary level: 500, state:01&gt; congressional district:01</td>\n",
       "      <td>268179</td>\n",
       "      <td>228397</td>\n",
       "      <td>218207</td>\n",
       "      <td>16628</td>\n",
       "      <td>39782</td>\n",
       "      <td>21606</td>\n",
       "      <td>11226</td>\n",
       "      <td>7834</td>\n",
       "      <td>4180</td>\n",
       "      <td>10380</td>\n",
       "      <td>113936</td>\n",
       "      <td>89723</td>\n",
       "      <td>55474</td>\n",
       "      <td>45914</td>\n",
       "      <td>24213</td>\n",
       "    </tr>\n",
       "    <tr>\n",
       "      <td>Congressional District 2 (115th Congress), Alabama: Summary level: 500, state:01&gt; congressional district:02</td>\n",
       "      <td>262066</td>\n",
       "      <td>226626</td>\n",
       "      <td>216991</td>\n",
       "      <td>18634</td>\n",
       "      <td>35440</td>\n",
       "      <td>21559</td>\n",
       "      <td>11129</td>\n",
       "      <td>7569</td>\n",
       "      <td>4362</td>\n",
       "      <td>10430</td>\n",
       "      <td>108826</td>\n",
       "      <td>89114</td>\n",
       "      <td>53429</td>\n",
       "      <td>47680</td>\n",
       "      <td>19712</td>\n",
       "    </tr>\n",
       "  </tbody>\n",
       "</table>\n",
       "</div>"
      ],
      "text/plain": [
       "                                                    B27011_003E  B27011_004E  \\\n",
       "Congressional District 1 (115th Congress), Alab...       268179       228397   \n",
       "Congressional District 2 (115th Congress), Alab...       262066       226626   \n",
       "\n",
       "                                                    B27011_005E  B27011_006E  \\\n",
       "Congressional District 1 (115th Congress), Alab...       218207        16628   \n",
       "Congressional District 2 (115th Congress), Alab...       216991        18634   \n",
       "\n",
       "                                                    B27011_007E  B27011_008E  \\\n",
       "Congressional District 1 (115th Congress), Alab...        39782        21606   \n",
       "Congressional District 2 (115th Congress), Alab...        35440        21559   \n",
       "\n",
       "                                                    B27011_009E  B27011_010E  \\\n",
       "Congressional District 1 (115th Congress), Alab...        11226         7834   \n",
       "Congressional District 2 (115th Congress), Alab...        11129         7569   \n",
       "\n",
       "                                                    B27011_011E  B27011_012E  \\\n",
       "Congressional District 1 (115th Congress), Alab...         4180        10380   \n",
       "Congressional District 2 (115th Congress), Alab...         4362        10430   \n",
       "\n",
       "                                                    B27011_013E  B27011_014E  \\\n",
       "Congressional District 1 (115th Congress), Alab...       113936        89723   \n",
       "Congressional District 2 (115th Congress), Alab...       108826        89114   \n",
       "\n",
       "                                                    B27011_015E  B27011_016E  \\\n",
       "Congressional District 1 (115th Congress), Alab...        55474        45914   \n",
       "Congressional District 2 (115th Congress), Alab...        53429        47680   \n",
       "\n",
       "                                                    B27011_017E  \n",
       "Congressional District 1 (115th Congress), Alab...        24213  \n",
       "Congressional District 2 (115th Congress), Alab...        19712  "
      ]
     },
     "execution_count": 2,
     "metadata": {},
     "output_type": "execute_result"
    }
   ],
   "source": [
    "my_vars = [\"B27011_003E\",\n",
    "           \"B27011_004E\",\n",
    "           \"B27011_003E\",\n",
    "           \"B27011_004E\",\n",
    "           \"B27011_005E\",\n",
    "           \"B27011_006E\",\n",
    "           \"B27011_007E\",\n",
    "           \"B27011_008E\",\n",
    "           \"B27011_009E\",\n",
    "           \"B27011_010E\",\n",
    "           \"B27011_011E\",\n",
    "           \"B27011_012E\",\n",
    "           \"B27011_013E\",\n",
    "           \"B27011_014E\",\n",
    "           \"B27011_015E\",\n",
    "           \"B27011_016E\",\n",
    "           \"B27011_017E\",\n",
    "          ]\n",
    "\n",
    "geography_of_interest = [(\"state\", \"*\"),(\"congressional district\", \"*\")]\n",
    "my_geo = censusdata.censusgeo(geo = geography_of_interest)\n",
    "\n",
    "dataCongD = censusdata.download(src = 'acs5', year = 2017, geo = my_geo, var = my_vars)\n",
    "dataCongD.head(2)"
   ]
  },
  {
   "cell_type": "code",
   "execution_count": 5,
   "metadata": {},
   "outputs": [
    {
     "data": {
      "text/plain": [
       "(437, 15)"
      ]
     },
     "execution_count": 5,
     "metadata": {},
     "output_type": "execute_result"
    }
   ],
   "source": [
    "dataCongD.shape"
   ]
  },
  {
   "cell_type": "code",
   "execution_count": 6,
   "metadata": {},
   "outputs": [
    {
     "name": "stdout",
     "output_type": "stream",
     "text": [
      "Variable     | Table                          | Label                                                    | Type \n",
      "-------------------------------------------------------------------------------------------------------------------\n",
      "B27011_001E  | HEALTH INSURANCE COVERAGE STAT | !! Estimate Total                                        | int  \n",
      "B27011_002E  | HEALTH INSURANCE COVERAGE STAT | !! !! Estimate Total In labor force                      | int  \n",
      "B27011_003E  | HEALTH INSURANCE COVERAGE STAT | !! !! !! Estimate Total In labor force Employed          | int  \n",
      "B27011_004E  | HEALTH INSURANCE COVERAGE STAT | !! !! !! !! Estimate Total In labor force Employed With  | int  \n",
      "B27011_005E  | HEALTH INSURANCE COVERAGE STAT | !! !! !! !! !! Estimate Total In labor force Employed Wi | int  \n",
      "B27011_006E  | HEALTH INSURANCE COVERAGE STAT | !! !! !! !! !! Estimate Total In labor force Employed Wi | int  \n",
      "B27011_007E  | HEALTH INSURANCE COVERAGE STAT | !! !! !! !! Estimate Total In labor force Employed No he | int  \n",
      "B27011_008E  | HEALTH INSURANCE COVERAGE STAT | !! !! !! Estimate Total In labor force Unemployed        | int  \n",
      "B27011_009E  | HEALTH INSURANCE COVERAGE STAT | !! !! !! !! Estimate Total In labor force Unemployed Wit | int  \n",
      "B27011_010E  | HEALTH INSURANCE COVERAGE STAT | !! !! !! !! !! Estimate Total In labor force Unemployed  | int  \n",
      "B27011_011E  | HEALTH INSURANCE COVERAGE STAT | !! !! !! !! !! Estimate Total In labor force Unemployed  | int  \n",
      "B27011_012E  | HEALTH INSURANCE COVERAGE STAT | !! !! !! !! Estimate Total In labor force Unemployed No  | int  \n",
      "B27011_013E  | HEALTH INSURANCE COVERAGE STAT | !! !! Estimate Total Not in labor force                  | int  \n",
      "B27011_014E  | HEALTH INSURANCE COVERAGE STAT | !! !! !! Estimate Total Not in labor force With health i | int  \n",
      "B27011_015E  | HEALTH INSURANCE COVERAGE STAT | !! !! !! !! Estimate Total Not in labor force With healt | int  \n",
      "B27011_016E  | HEALTH INSURANCE COVERAGE STAT | !! !! !! !! Estimate Total Not in labor force With healt | int  \n",
      "B27011_017E  | HEALTH INSURANCE COVERAGE STAT | !! !! !! Estimate Total Not in labor force No health ins | int  \n",
      "-------------------------------------------------------------------------------------------------------------------\n"
     ]
    }
   ],
   "source": [
    "#and print them legibly\n",
    "censusdata.printtable(censusdata.censustable(src = 'acs5', year = 2017, table = 'B27011'))"
   ]
  },
  {
   "cell_type": "code",
   "execution_count": 7,
   "metadata": {},
   "outputs": [
    {
     "data": {
      "text/html": [
       "<div>\n",
       "<style scoped>\n",
       "    .dataframe tbody tr th:only-of-type {\n",
       "        vertical-align: middle;\n",
       "    }\n",
       "\n",
       "    .dataframe tbody tr th {\n",
       "        vertical-align: top;\n",
       "    }\n",
       "\n",
       "    .dataframe thead th {\n",
       "        text-align: right;\n",
       "    }\n",
       "</style>\n",
       "<table border=\"1\" class=\"dataframe\">\n",
       "  <thead>\n",
       "    <tr style=\"text-align: right;\">\n",
       "      <th></th>\n",
       "      <th>LFEmployedTotal</th>\n",
       "      <th>LFE18-64y</th>\n",
       "      <th>LFE18-64yHealth</th>\n",
       "      <th>LFE18-64yPrivateHealth</th>\n",
       "      <th>LFE18-64yPublicHealth</th>\n",
       "      <th>LFE18-64yNoHealth</th>\n",
       "      <th>LFE-65+</th>\n",
       "      <th>LFE-65+Health</th>\n",
       "      <th>LFE-65+PrivateHealth</th>\n",
       "      <th>LFE-65+PublicHealth</th>\n",
       "      <th>LFE-65+NoHealth</th>\n",
       "      <th>LFUnEmployedTotal</th>\n",
       "      <th>LFUE18-64y</th>\n",
       "      <th>LFUE18-64yHealth</th>\n",
       "      <th>LFUE18-64yPrivateHealth</th>\n",
       "    </tr>\n",
       "  </thead>\n",
       "  <tbody>\n",
       "    <tr>\n",
       "      <td>Congressional District 1 (115th Congress), Alabama: Summary level: 500, state:01&gt; congressional district:01</td>\n",
       "      <td>268179</td>\n",
       "      <td>228397</td>\n",
       "      <td>218207</td>\n",
       "      <td>16628</td>\n",
       "      <td>39782</td>\n",
       "      <td>21606</td>\n",
       "      <td>11226</td>\n",
       "      <td>7834</td>\n",
       "      <td>4180</td>\n",
       "      <td>10380</td>\n",
       "      <td>113936</td>\n",
       "      <td>89723</td>\n",
       "      <td>55474</td>\n",
       "      <td>45914</td>\n",
       "      <td>24213</td>\n",
       "    </tr>\n",
       "  </tbody>\n",
       "</table>\n",
       "</div>"
      ],
      "text/plain": [
       "                                                    LFEmployedTotal  \\\n",
       "Congressional District 1 (115th Congress), Alab...           268179   \n",
       "\n",
       "                                                    LFE18-64y  \\\n",
       "Congressional District 1 (115th Congress), Alab...     228397   \n",
       "\n",
       "                                                    LFE18-64yHealth  \\\n",
       "Congressional District 1 (115th Congress), Alab...           218207   \n",
       "\n",
       "                                                    LFE18-64yPrivateHealth  \\\n",
       "Congressional District 1 (115th Congress), Alab...                   16628   \n",
       "\n",
       "                                                    LFE18-64yPublicHealth  \\\n",
       "Congressional District 1 (115th Congress), Alab...                  39782   \n",
       "\n",
       "                                                    LFE18-64yNoHealth  \\\n",
       "Congressional District 1 (115th Congress), Alab...              21606   \n",
       "\n",
       "                                                    LFE-65+  LFE-65+Health  \\\n",
       "Congressional District 1 (115th Congress), Alab...    11226           7834   \n",
       "\n",
       "                                                    LFE-65+PrivateHealth  \\\n",
       "Congressional District 1 (115th Congress), Alab...                  4180   \n",
       "\n",
       "                                                    LFE-65+PublicHealth  \\\n",
       "Congressional District 1 (115th Congress), Alab...                10380   \n",
       "\n",
       "                                                    LFE-65+NoHealth  \\\n",
       "Congressional District 1 (115th Congress), Alab...           113936   \n",
       "\n",
       "                                                    LFUnEmployedTotal  \\\n",
       "Congressional District 1 (115th Congress), Alab...              89723   \n",
       "\n",
       "                                                    LFUE18-64y  \\\n",
       "Congressional District 1 (115th Congress), Alab...       55474   \n",
       "\n",
       "                                                    LFUE18-64yHealth  \\\n",
       "Congressional District 1 (115th Congress), Alab...             45914   \n",
       "\n",
       "                                                    LFUE18-64yPrivateHealth  \n",
       "Congressional District 1 (115th Congress), Alab...                    24213  "
      ]
     },
     "execution_count": 7,
     "metadata": {},
     "output_type": "execute_result"
    }
   ],
   "source": [
    "rename_vars = {\n",
    "           \"B27011_003E\": \"Total\",\n",
    "           \"B27011_004E\": \"InLaborForce\",\n",
    "           \"B27011_003E\": \"LFEmployedTotal\",\n",
    "           \"B27011_004E\": \"LFE18-64y\",\n",
    "           \"B27011_005E\": \"LFE18-64yHealth\",\n",
    "           \"B27011_006E\": \"LFE18-64yPrivateHealth\",\n",
    "           \"B27011_007E\": \"LFE18-64yPublicHealth\",\n",
    "           \"B27011_008E\": \"LFE18-64yNoHealth\",\n",
    "           \"B27011_009E\": \"LFE-65+\",\n",
    "           \"B27011_010E\": \"LFE-65+Health\",\n",
    "           \"B27011_011E\": \"LFE-65+PrivateHealth\",\n",
    "           \"B27011_012E\": \"LFE-65+PublicHealth\",\n",
    "           \"B27011_013E\": \"LFE-65+NoHealth\",\n",
    "           \"B27011_014E\": \"LFUnEmployedTotal\",\n",
    "           \"B27011_015E\": \"LFUE18-64y\",\n",
    "           \"B27011_016E\": \"LFUE18-64yHealth\",\n",
    "           \"B27011_017E\": \"LFUE18-64yPrivateHealth\"\n",
    "}\n",
    "dataCongD = dataCongD.rename(mapper = rename_vars, axis = 1)\n",
    "dataCongD.head(1)"
   ]
  },
  {
   "cell_type": "code",
   "execution_count": 8,
   "metadata": {},
   "outputs": [
    {
     "data": {
      "text/html": [
       "<div>\n",
       "<style scoped>\n",
       "    .dataframe tbody tr th:only-of-type {\n",
       "        vertical-align: middle;\n",
       "    }\n",
       "\n",
       "    .dataframe tbody tr th {\n",
       "        vertical-align: top;\n",
       "    }\n",
       "\n",
       "    .dataframe thead th {\n",
       "        text-align: right;\n",
       "    }\n",
       "</style>\n",
       "<table border=\"1\" class=\"dataframe\">\n",
       "  <thead>\n",
       "    <tr style=\"text-align: right;\">\n",
       "      <th></th>\n",
       "      <th>LFEmployedTotal</th>\n",
       "      <th>LFE18-64y</th>\n",
       "      <th>LFE18-64yHealth</th>\n",
       "      <th>LFE18-64yPrivateHealth</th>\n",
       "      <th>LFE18-64yPublicHealth</th>\n",
       "      <th>LFE18-64yNoHealth</th>\n",
       "      <th>LFE-65+</th>\n",
       "      <th>LFE-65+Health</th>\n",
       "      <th>LFE-65+PrivateHealth</th>\n",
       "      <th>LFE-65+PublicHealth</th>\n",
       "      <th>LFE-65+NoHealth</th>\n",
       "      <th>LFUnEmployedTotal</th>\n",
       "      <th>LFUE18-64y</th>\n",
       "      <th>LFUE18-64yHealth</th>\n",
       "      <th>LFUE18-64yPrivateHealth</th>\n",
       "    </tr>\n",
       "  </thead>\n",
       "  <tbody>\n",
       "    <tr>\n",
       "      <td>Corozal Municipio, Puerto Rico: Summary level: 050, state:72&gt; county:047</td>\n",
       "      <td>7924</td>\n",
       "      <td>7494</td>\n",
       "      <td>4519</td>\n",
       "      <td>3157</td>\n",
       "      <td>430</td>\n",
       "      <td>3233</td>\n",
       "      <td>2996</td>\n",
       "      <td>349</td>\n",
       "      <td>2647</td>\n",
       "      <td>237</td>\n",
       "      <td>9694</td>\n",
       "      <td>9218</td>\n",
       "      <td>1924</td>\n",
       "      <td>7536</td>\n",
       "      <td>476</td>\n",
       "    </tr>\n",
       "  </tbody>\n",
       "</table>\n",
       "</div>"
      ],
      "text/plain": [
       "                                                    LFEmployedTotal  \\\n",
       "Corozal Municipio, Puerto Rico: Summary level: ...             7924   \n",
       "\n",
       "                                                    LFE18-64y  \\\n",
       "Corozal Municipio, Puerto Rico: Summary level: ...       7494   \n",
       "\n",
       "                                                    LFE18-64yHealth  \\\n",
       "Corozal Municipio, Puerto Rico: Summary level: ...             4519   \n",
       "\n",
       "                                                    LFE18-64yPrivateHealth  \\\n",
       "Corozal Municipio, Puerto Rico: Summary level: ...                    3157   \n",
       "\n",
       "                                                    LFE18-64yPublicHealth  \\\n",
       "Corozal Municipio, Puerto Rico: Summary level: ...                    430   \n",
       "\n",
       "                                                    LFE18-64yNoHealth  \\\n",
       "Corozal Municipio, Puerto Rico: Summary level: ...               3233   \n",
       "\n",
       "                                                    LFE-65+  LFE-65+Health  \\\n",
       "Corozal Municipio, Puerto Rico: Summary level: ...     2996            349   \n",
       "\n",
       "                                                    LFE-65+PrivateHealth  \\\n",
       "Corozal Municipio, Puerto Rico: Summary level: ...                  2647   \n",
       "\n",
       "                                                    LFE-65+PublicHealth  \\\n",
       "Corozal Municipio, Puerto Rico: Summary level: ...                  237   \n",
       "\n",
       "                                                    LFE-65+NoHealth  \\\n",
       "Corozal Municipio, Puerto Rico: Summary level: ...             9694   \n",
       "\n",
       "                                                    LFUnEmployedTotal  \\\n",
       "Corozal Municipio, Puerto Rico: Summary level: ...               9218   \n",
       "\n",
       "                                                    LFUE18-64y  \\\n",
       "Corozal Municipio, Puerto Rico: Summary level: ...        1924   \n",
       "\n",
       "                                                    LFUE18-64yHealth  \\\n",
       "Corozal Municipio, Puerto Rico: Summary level: ...              7536   \n",
       "\n",
       "                                                    LFUE18-64yPrivateHealth  \n",
       "Corozal Municipio, Puerto Rico: Summary level: ...                      476  "
      ]
     },
     "execution_count": 8,
     "metadata": {},
     "output_type": "execute_result"
    }
   ],
   "source": [
    "geography_of_interest = [(\"state\", \"*\"),(\"county\", \"*\")]\n",
    "my_geo = censusdata.censusgeo(geo = geography_of_interest)\n",
    "\n",
    "dataCounty = censusdata.download(src = 'acs5', year = 2017, geo = my_geo, var = my_vars)\n",
    "dataCounty = dataCounty.rename(mapper = rename_vars, axis = 1)\n",
    "dataCounty.head(1)"
   ]
  },
  {
   "cell_type": "code",
   "execution_count": 9,
   "metadata": {},
   "outputs": [
    {
     "data": {
      "text/plain": [
       "(3220, 15)"
      ]
     },
     "execution_count": 9,
     "metadata": {},
     "output_type": "execute_result"
    }
   ],
   "source": [
    "dataCounty.shape"
   ]
  },
  {
   "cell_type": "code",
   "execution_count": 10,
   "metadata": {},
   "outputs": [
    {
     "data": {
      "text/html": [
       "<div>\n",
       "<style scoped>\n",
       "    .dataframe tbody tr th:only-of-type {\n",
       "        vertical-align: middle;\n",
       "    }\n",
       "\n",
       "    .dataframe tbody tr th {\n",
       "        vertical-align: top;\n",
       "    }\n",
       "\n",
       "    .dataframe thead th {\n",
       "        text-align: right;\n",
       "    }\n",
       "</style>\n",
       "<table border=\"1\" class=\"dataframe\">\n",
       "  <thead>\n",
       "    <tr style=\"text-align: right;\">\n",
       "      <th></th>\n",
       "      <th>index</th>\n",
       "      <th>LFEmployedTotal</th>\n",
       "      <th>LFE18-64y</th>\n",
       "      <th>LFE18-64yHealth</th>\n",
       "      <th>LFE18-64yPrivateHealth</th>\n",
       "      <th>LFE18-64yPublicHealth</th>\n",
       "      <th>LFE18-64yNoHealth</th>\n",
       "      <th>LFE-65+</th>\n",
       "      <th>LFE-65+Health</th>\n",
       "      <th>LFE-65+PrivateHealth</th>\n",
       "      <th>LFE-65+PublicHealth</th>\n",
       "      <th>LFE-65+NoHealth</th>\n",
       "      <th>LFUnEmployedTotal</th>\n",
       "      <th>LFUE18-64y</th>\n",
       "      <th>LFUE18-64yHealth</th>\n",
       "      <th>LFUE18-64yPrivateHealth</th>\n",
       "    </tr>\n",
       "  </thead>\n",
       "  <tbody>\n",
       "    <tr>\n",
       "      <td>0</td>\n",
       "      <td>Corozal Municipio, Puerto Rico: Summary level:...</td>\n",
       "      <td>7924</td>\n",
       "      <td>7494</td>\n",
       "      <td>4519</td>\n",
       "      <td>3157</td>\n",
       "      <td>430</td>\n",
       "      <td>3233</td>\n",
       "      <td>2996</td>\n",
       "      <td>349</td>\n",
       "      <td>2647</td>\n",
       "      <td>237</td>\n",
       "      <td>9694</td>\n",
       "      <td>9218</td>\n",
       "      <td>1924</td>\n",
       "      <td>7536</td>\n",
       "      <td>476</td>\n",
       "    </tr>\n",
       "  </tbody>\n",
       "</table>\n",
       "</div>"
      ],
      "text/plain": [
       "                                               index  LFEmployedTotal  \\\n",
       "0  Corozal Municipio, Puerto Rico: Summary level:...             7924   \n",
       "\n",
       "   LFE18-64y  LFE18-64yHealth  LFE18-64yPrivateHealth  LFE18-64yPublicHealth  \\\n",
       "0       7494             4519                    3157                    430   \n",
       "\n",
       "   LFE18-64yNoHealth  LFE-65+  LFE-65+Health  LFE-65+PrivateHealth  \\\n",
       "0               3233     2996            349                  2647   \n",
       "\n",
       "   LFE-65+PublicHealth  LFE-65+NoHealth  LFUnEmployedTotal  LFUE18-64y  \\\n",
       "0                  237             9694               9218        1924   \n",
       "\n",
       "   LFUE18-64yHealth  LFUE18-64yPrivateHealth  \n",
       "0              7536                      476  "
      ]
     },
     "execution_count": 10,
     "metadata": {},
     "output_type": "execute_result"
    }
   ],
   "source": [
    "dataCounty = dataCounty.reset_index()\n",
    "dataCounty.head(1)"
   ]
  },
  {
   "cell_type": "code",
   "execution_count": 11,
   "metadata": {},
   "outputs": [
    {
     "data": {
      "text/plain": [
       "dtype('O')"
      ]
     },
     "execution_count": 11,
     "metadata": {},
     "output_type": "execute_result"
    }
   ],
   "source": [
    "dataCounty['index'].dtypes"
   ]
  },
  {
   "cell_type": "code",
   "execution_count": 12,
   "metadata": {},
   "outputs": [
    {
     "data": {
      "text/plain": [
       "'Corozal Municipio, Puerto Rico: Summary level: 050, state:72> county:047'"
      ]
     },
     "execution_count": 12,
     "metadata": {},
     "output_type": "execute_result"
    }
   ],
   "source": [
    "test = str(dataCounty.iloc[0]['index'])\n",
    "# test.replace(\"censusgeo((('state', '\", \"\")\n",
    "# test.replace(\"'), ('county', '\", \"\")\n",
    "test"
   ]
  },
  {
   "cell_type": "code",
   "execution_count": 33,
   "metadata": {},
   "outputs": [
    {
     "data": {
      "text/plain": [
       "censusgeo((('state', '72'), ('county', '047')), 'Corozal Municipio, Puerto Rico')"
      ]
     },
     "execution_count": 33,
     "metadata": {},
     "output_type": "execute_result"
    }
   ],
   "source": [
    "dataCounty.iloc[0]['index']"
   ]
  },
  {
   "cell_type": "code",
   "execution_count": 34,
   "metadata": {},
   "outputs": [],
   "source": [
    "ind = str(dataCounty.iloc[0]['index'])"
   ]
  },
  {
   "cell_type": "code",
   "execution_count": 81,
   "metadata": {},
   "outputs": [
    {
     "data": {
      "text/plain": [
       "{'for': 'county:047', 'in': 'state:72'}"
      ]
     },
     "execution_count": 81,
     "metadata": {},
     "output_type": "execute_result"
    }
   ],
   "source": [
    "geodict = dict(dataCounty.iloc[0]['index'].request())\n",
    "# countystr = str(geodict['for'])\n",
    "# statestr = str(geodict['in'])\n",
    "# [int(s) for s in statestr.split() if s.isdigit()]\n",
    "geodict"
   ]
  },
  {
   "cell_type": "code",
   "execution_count": 85,
   "metadata": {},
   "outputs": [
    {
     "data": {
      "text/plain": [
       "censusdata.censusgeo.censusgeo"
      ]
     },
     "execution_count": 85,
     "metadata": {},
     "output_type": "execute_result"
    }
   ],
   "source": [
    "type(dataCounty.iloc[0]['index'])"
   ]
  },
  {
   "cell_type": "code",
   "execution_count": 66,
   "metadata": {},
   "outputs": [
    {
     "data": {
      "text/plain": [
       "['72']"
      ]
     },
     "execution_count": 66,
     "metadata": {},
     "output_type": "execute_result"
    }
   ],
   "source": [
    "import re\n",
    "re.findall(r'\\d+',statestr)"
   ]
  },
  {
   "cell_type": "code",
   "execution_count": 100,
   "metadata": {},
   "outputs": [
    {
     "data": {
      "text/plain": [
       "array([censusgeo((('state', '72'), ('county', '047')), 'Corozal Municipio, Puerto Rico'),\n",
       "       censusgeo((('state', '72'), ('county', '095')), 'Maunabo Municipio, Puerto Rico'),\n",
       "       censusgeo((('state', '72'), ('county', '111')), 'Peñuelas Municipio, Puerto Rico'),\n",
       "       ...,\n",
       "       censusgeo((('state', '55'), ('county', '089')), 'Ozaukee County, Wisconsin'),\n",
       "       censusgeo((('state', '55'), ('county', '097')), 'Portage County, Wisconsin'),\n",
       "       censusgeo((('state', '55'), ('county', '103')), 'Richland County, Wisconsin')],\n",
       "      dtype=object)"
      ]
     },
     "execution_count": 100,
     "metadata": {},
     "output_type": "execute_result"
    }
   ],
   "source": [
    "dataCounty['index'].values"
   ]
  },
  {
   "cell_type": "code",
   "execution_count": 83,
   "metadata": {},
   "outputs": [
    {
     "data": {
      "text/html": [
       "<div>\n",
       "<style scoped>\n",
       "    .dataframe tbody tr th:only-of-type {\n",
       "        vertical-align: middle;\n",
       "    }\n",
       "\n",
       "    .dataframe tbody tr th {\n",
       "        vertical-align: top;\n",
       "    }\n",
       "\n",
       "    .dataframe thead th {\n",
       "        text-align: right;\n",
       "    }\n",
       "</style>\n",
       "<table border=\"1\" class=\"dataframe\">\n",
       "  <thead>\n",
       "    <tr style=\"text-align: right;\">\n",
       "      <th></th>\n",
       "      <th>LFEmployedTotal</th>\n",
       "      <th>LFE18-64y</th>\n",
       "      <th>LFE18-64yHealth</th>\n",
       "      <th>LFE18-64yPrivateHealth</th>\n",
       "      <th>LFE18-64yPublicHealth</th>\n",
       "      <th>LFE18-64yNoHealth</th>\n",
       "      <th>LFE-65+</th>\n",
       "      <th>LFE-65+Health</th>\n",
       "      <th>LFE-65+PrivateHealth</th>\n",
       "      <th>LFE-65+PublicHealth</th>\n",
       "      <th>LFE-65+NoHealth</th>\n",
       "      <th>LFUnEmployedTotal</th>\n",
       "      <th>LFUE18-64y</th>\n",
       "      <th>LFUE18-64yHealth</th>\n",
       "      <th>LFUE18-64yPrivateHealth</th>\n",
       "    </tr>\n",
       "  </thead>\n",
       "  <tbody>\n",
       "    <tr>\n",
       "      <td>ZCTA5 84306: Summary level: 860, zip code tabulation area:84306</td>\n",
       "      <td>158</td>\n",
       "      <td>158</td>\n",
       "      <td>158</td>\n",
       "      <td>0</td>\n",
       "      <td>0</td>\n",
       "      <td>0</td>\n",
       "      <td>0</td>\n",
       "      <td>0</td>\n",
       "      <td>0</td>\n",
       "      <td>0</td>\n",
       "      <td>31</td>\n",
       "      <td>31</td>\n",
       "      <td>31</td>\n",
       "      <td>0</td>\n",
       "      <td>0</td>\n",
       "    </tr>\n",
       "  </tbody>\n",
       "</table>\n",
       "</div>"
      ],
      "text/plain": [
       "                                                    LFEmployedTotal  \\\n",
       "ZCTA5 84306: Summary level: 860, zip code tabul...              158   \n",
       "\n",
       "                                                    LFE18-64y  \\\n",
       "ZCTA5 84306: Summary level: 860, zip code tabul...        158   \n",
       "\n",
       "                                                    LFE18-64yHealth  \\\n",
       "ZCTA5 84306: Summary level: 860, zip code tabul...              158   \n",
       "\n",
       "                                                    LFE18-64yPrivateHealth  \\\n",
       "ZCTA5 84306: Summary level: 860, zip code tabul...                       0   \n",
       "\n",
       "                                                    LFE18-64yPublicHealth  \\\n",
       "ZCTA5 84306: Summary level: 860, zip code tabul...                      0   \n",
       "\n",
       "                                                    LFE18-64yNoHealth  \\\n",
       "ZCTA5 84306: Summary level: 860, zip code tabul...                  0   \n",
       "\n",
       "                                                    LFE-65+  LFE-65+Health  \\\n",
       "ZCTA5 84306: Summary level: 860, zip code tabul...        0              0   \n",
       "\n",
       "                                                    LFE-65+PrivateHealth  \\\n",
       "ZCTA5 84306: Summary level: 860, zip code tabul...                     0   \n",
       "\n",
       "                                                    LFE-65+PublicHealth  \\\n",
       "ZCTA5 84306: Summary level: 860, zip code tabul...                    0   \n",
       "\n",
       "                                                    LFE-65+NoHealth  \\\n",
       "ZCTA5 84306: Summary level: 860, zip code tabul...               31   \n",
       "\n",
       "                                                    LFUnEmployedTotal  \\\n",
       "ZCTA5 84306: Summary level: 860, zip code tabul...                 31   \n",
       "\n",
       "                                                    LFUE18-64y  \\\n",
       "ZCTA5 84306: Summary level: 860, zip code tabul...          31   \n",
       "\n",
       "                                                    LFUE18-64yHealth  \\\n",
       "ZCTA5 84306: Summary level: 860, zip code tabul...                 0   \n",
       "\n",
       "                                                    LFUE18-64yPrivateHealth  \n",
       "ZCTA5 84306: Summary level: 860, zip code tabul...                        0  "
      ]
     },
     "execution_count": 83,
     "metadata": {},
     "output_type": "execute_result"
    }
   ],
   "source": [
    "geography_of_interest = [(\"zip code tabulation area\", \"*\")]\n",
    "my_geo = censusdata.censusgeo(geo = geography_of_interest)\n",
    "\n",
    "dataZip = censusdata.download(src = 'acs5', year = 2017, geo = my_geo, var = my_vars)\n",
    "dataZip = dataZip.rename(mapper = rename_vars, axis = 1)\n",
    "dataZip.head(1)"
   ]
  },
  {
   "cell_type": "code",
   "execution_count": 84,
   "metadata": {},
   "outputs": [
    {
     "data": {
      "text/plain": [
       "(3220, 15)"
      ]
     },
     "execution_count": 84,
     "metadata": {},
     "output_type": "execute_result"
    }
   ],
   "source": [
    "dataZip.shape"
   ]
  },
  {
   "cell_type": "code",
   "execution_count": 67,
   "metadata": {},
   "outputs": [
    {
     "data": {
      "text/html": [
       "<div>\n",
       "<style scoped>\n",
       "    .dataframe tbody tr th:only-of-type {\n",
       "        vertical-align: middle;\n",
       "    }\n",
       "\n",
       "    .dataframe tbody tr th {\n",
       "        vertical-align: top;\n",
       "    }\n",
       "\n",
       "    .dataframe thead th {\n",
       "        text-align: right;\n",
       "    }\n",
       "</style>\n",
       "<table border=\"1\" class=\"dataframe\">\n",
       "  <thead>\n",
       "    <tr style=\"text-align: right;\">\n",
       "      <th></th>\n",
       "      <th>Summary Level</th>\n",
       "      <th>State Code (FIPS)</th>\n",
       "      <th>County Code (FIPS)</th>\n",
       "      <th>County Subdivision Code (FIPS)</th>\n",
       "      <th>Place Code (FIPS)</th>\n",
       "      <th>Consolidtated City Code (FIPS)</th>\n",
       "      <th>Area Name (including legal/statistical area description)</th>\n",
       "    </tr>\n",
       "  </thead>\n",
       "  <tbody>\n",
       "    <tr>\n",
       "      <td>0</td>\n",
       "      <td>10</td>\n",
       "      <td>0</td>\n",
       "      <td>0</td>\n",
       "      <td>0</td>\n",
       "      <td>0</td>\n",
       "      <td>0</td>\n",
       "      <td>United States</td>\n",
       "    </tr>\n",
       "    <tr>\n",
       "      <td>1</td>\n",
       "      <td>40</td>\n",
       "      <td>1</td>\n",
       "      <td>0</td>\n",
       "      <td>0</td>\n",
       "      <td>0</td>\n",
       "      <td>0</td>\n",
       "      <td>Alabama</td>\n",
       "    </tr>\n",
       "  </tbody>\n",
       "</table>\n",
       "</div>"
      ],
      "text/plain": [
       "   Summary Level  State Code (FIPS)  County Code (FIPS)  \\\n",
       "0             10                  0                   0   \n",
       "1             40                  1                   0   \n",
       "\n",
       "   County Subdivision Code (FIPS)  Place Code (FIPS)  \\\n",
       "0                               0                  0   \n",
       "1                               0                  0   \n",
       "\n",
       "   Consolidtated City Code (FIPS)  \\\n",
       "0                               0   \n",
       "1                               0   \n",
       "\n",
       "  Area Name (including legal/statistical area description)  \n",
       "0                                      United States        \n",
       "1                                            Alabama        "
      ]
     },
     "execution_count": 67,
     "metadata": {},
     "output_type": "execute_result"
    }
   ],
   "source": [
    "df = pd.read_csv('all-geocodes-v2017nationalpluspr_17.csv')\n",
    "df.head(2)"
   ]
  },
  {
   "cell_type": "code",
   "execution_count": 69,
   "metadata": {},
   "outputs": [],
   "source": [
    "# a = 5\n",
    "def convertTo2digits(a):\n",
    "    return \"{0:0=2d}\".format(a)\n",
    "# convertTo2digits(a)\n",
    "\n",
    "def convertTo3digits(a):\n",
    "    return \"{0:0=3d}\".format(a)\n",
    "# convertTo3digits(a)"
   ]
  },
  {
   "cell_type": "code",
   "execution_count": 70,
   "metadata": {},
   "outputs": [
    {
     "data": {
      "text/plain": [
       "0        00\n",
       "1        01\n",
       "2        01\n",
       "3        01\n",
       "4        01\n",
       "         ..\n",
       "43905    72\n",
       "43906    72\n",
       "43907    72\n",
       "43908    72\n",
       "43909    72\n",
       "Name: State Code (FIPS), Length: 43910, dtype: object"
      ]
     },
     "execution_count": 70,
     "metadata": {},
     "output_type": "execute_result"
    }
   ],
   "source": [
    "df['State Code (FIPS)'] = df['State Code (FIPS)'].apply(convertTo2digits)\n",
    "df['State Code (FIPS)']"
   ]
  },
  {
   "cell_type": "code",
   "execution_count": 72,
   "metadata": {},
   "outputs": [
    {
     "data": {
      "text/plain": [
       "array(['00', '01', '02', '04', '05', '06', '08', '09', '10', '11', '12',\n",
       "       '13', '15', '16', '17', '18', '19', '20', '21', '22', '23', '24',\n",
       "       '25', '26', '27', '28', '29', '30', '31', '32', '33', '34', '35',\n",
       "       '36', '37', '38', '39', '40', '41', '42', '44', '45', '46', '47',\n",
       "       '48', '49', '50', '51', '53', '54', '55', '56', '72'], dtype=object)"
      ]
     },
     "execution_count": 72,
     "metadata": {},
     "output_type": "execute_result"
    }
   ],
   "source": [
    "\n",
    "df['State Code (FIPS)'].unique()"
   ]
  },
  {
   "cell_type": "code",
   "execution_count": 73,
   "metadata": {},
   "outputs": [
    {
     "data": {
      "text/plain": [
       "0        000\n",
       "1        000\n",
       "2        001\n",
       "3        003\n",
       "4        005\n",
       "        ... \n",
       "43905    145\n",
       "43906    147\n",
       "43907    149\n",
       "43908    151\n",
       "43909    153\n",
       "Name: County Code (FIPS), Length: 43910, dtype: object"
      ]
     },
     "execution_count": 73,
     "metadata": {},
     "output_type": "execute_result"
    }
   ],
   "source": [
    "df['County Code (FIPS)'] = df['County Code (FIPS)'].apply(convertTo3digits)\n",
    "df['County Code (FIPS)']"
   ]
  },
  {
   "cell_type": "code",
   "execution_count": 74,
   "metadata": {},
   "outputs": [
    {
     "data": {
      "text/plain": [
       "0        00000\n",
       "1        01000\n",
       "2        01001\n",
       "3        01003\n",
       "4        01005\n",
       "         ...  \n",
       "43905    72145\n",
       "43906    72147\n",
       "43907    72149\n",
       "43908    72151\n",
       "43909    72153\n",
       "Name: FIPS6-4, Length: 43910, dtype: object"
      ]
     },
     "execution_count": 74,
     "metadata": {},
     "output_type": "execute_result"
    }
   ],
   "source": [
    "df['FIPS6-4'] = df['State Code (FIPS)'] + df['County Code (FIPS)']\n",
    "df['FIPS6-4']"
   ]
  },
  {
   "cell_type": "code",
   "execution_count": 75,
   "metadata": {},
   "outputs": [
    {
     "data": {
      "text/html": [
       "<div>\n",
       "<style scoped>\n",
       "    .dataframe tbody tr th:only-of-type {\n",
       "        vertical-align: middle;\n",
       "    }\n",
       "\n",
       "    .dataframe tbody tr th {\n",
       "        vertical-align: top;\n",
       "    }\n",
       "\n",
       "    .dataframe thead th {\n",
       "        text-align: right;\n",
       "    }\n",
       "</style>\n",
       "<table border=\"1\" class=\"dataframe\">\n",
       "  <thead>\n",
       "    <tr style=\"text-align: right;\">\n",
       "      <th></th>\n",
       "      <th>Summary Level</th>\n",
       "      <th>State Code (FIPS)</th>\n",
       "      <th>County Code (FIPS)</th>\n",
       "      <th>County Subdivision Code (FIPS)</th>\n",
       "      <th>Place Code (FIPS)</th>\n",
       "      <th>Consolidtated City Code (FIPS)</th>\n",
       "      <th>Area Name (including legal/statistical area description)</th>\n",
       "      <th>FIPS6-4</th>\n",
       "    </tr>\n",
       "  </thead>\n",
       "  <tbody>\n",
       "    <tr>\n",
       "      <td>29002</td>\n",
       "      <td>61</td>\n",
       "      <td>39</td>\n",
       "      <td>055</td>\n",
       "      <td>59948</td>\n",
       "      <td>0</td>\n",
       "      <td>0</td>\n",
       "      <td>Parkman township</td>\n",
       "      <td>39055</td>\n",
       "    </tr>\n",
       "    <tr>\n",
       "      <td>23054</td>\n",
       "      <td>61</td>\n",
       "      <td>34</td>\n",
       "      <td>007</td>\n",
       "      <td>5440</td>\n",
       "      <td>0</td>\n",
       "      <td>0</td>\n",
       "      <td>Berlin borough</td>\n",
       "      <td>34007</td>\n",
       "    </tr>\n",
       "    <tr>\n",
       "      <td>35411</td>\n",
       "      <td>162</td>\n",
       "      <td>42</td>\n",
       "      <td>000</td>\n",
       "      <td>0</td>\n",
       "      <td>69336</td>\n",
       "      <td>0</td>\n",
       "      <td>Seven Springs borough</td>\n",
       "      <td>42000</td>\n",
       "    </tr>\n",
       "  </tbody>\n",
       "</table>\n",
       "</div>"
      ],
      "text/plain": [
       "       Summary Level State Code (FIPS) County Code (FIPS)  \\\n",
       "29002             61                39                055   \n",
       "23054             61                34                007   \n",
       "35411            162                42                000   \n",
       "\n",
       "       County Subdivision Code (FIPS)  Place Code (FIPS)  \\\n",
       "29002                           59948                  0   \n",
       "23054                            5440                  0   \n",
       "35411                               0              69336   \n",
       "\n",
       "       Consolidtated City Code (FIPS)  \\\n",
       "29002                               0   \n",
       "23054                               0   \n",
       "35411                               0   \n",
       "\n",
       "      Area Name (including legal/statistical area description) FIPS6-4  \n",
       "29002                                   Parkman township         39055  \n",
       "23054                                     Berlin borough         34007  \n",
       "35411                              Seven Springs borough         42000  "
      ]
     },
     "execution_count": 75,
     "metadata": {},
     "output_type": "execute_result"
    }
   ],
   "source": [
    "df.sample(3)"
   ]
  },
  {
   "cell_type": "code",
   "execution_count": 80,
   "metadata": {},
   "outputs": [
    {
     "data": {
      "text/plain": [
       "9790     16225\n",
       "9886     16250\n",
       "21628    11160\n",
       "27646    16620\n",
       "28745    19218\n",
       "30094    19246\n",
       "32904    16976\n",
       "Name: County Subdivision Code (FIPS), dtype: int64"
      ]
     },
     "execution_count": 80,
     "metadata": {},
     "output_type": "execute_result"
    }
   ],
   "source": [
    "# df.loc[df['B'] == 3, 'A']\n",
    "\n",
    "df.loc[df['Area Name (including legal/statistical area description)']=='Crawford township', 'FIPS6-4']"
   ]
  },
  {
   "cell_type": "code",
   "execution_count": null,
   "metadata": {},
   "outputs": [],
   "source": []
  }
 ],
 "metadata": {
  "kernelspec": {
   "display_name": "Python 3",
   "language": "python",
   "name": "python3"
  },
  "language_info": {
   "codemirror_mode": {
    "name": "ipython",
    "version": 3
   },
   "file_extension": ".py",
   "mimetype": "text/x-python",
   "name": "python",
   "nbconvert_exporter": "python",
   "pygments_lexer": "ipython3",
   "version": "3.7.4"
  }
 },
 "nbformat": 4,
 "nbformat_minor": 4
}
